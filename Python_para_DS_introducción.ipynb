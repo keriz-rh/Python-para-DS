{
  "nbformat": 4,
  "nbformat_minor": 0,
  "metadata": {
    "colab": {
      "provenance": [],
      "authorship_tag": "ABX9TyOWZe6xka2z70Fxx8O4bQBv",
      "include_colab_link": true
    },
    "kernelspec": {
      "name": "python3",
      "display_name": "Python 3"
    },
    "language_info": {
      "name": "python"
    }
  },
  "cells": [
    {
      "cell_type": "markdown",
      "metadata": {
        "id": "view-in-github",
        "colab_type": "text"
      },
      "source": [
        "<a href=\"https://colab.research.google.com/github/keriz-rh/Python-para-DS/blob/main/Python_para_DS_introducci%C3%B3n.ipynb\" target=\"_parent\"><img src=\"https://colab.research.google.com/assets/colab-badge.svg\" alt=\"Open In Colab\"/></a>"
      ]
    },
    {
      "cell_type": "markdown",
      "source": [
        "# Python para DS  -introducción al lenguaje"
      ],
      "metadata": {
        "id": "ExYi7iQt-fUN"
      }
    },
    {
      "cell_type": "code",
      "execution_count": null,
      "metadata": {
        "id": "Q4dnYEPzD5Ct"
      },
      "outputs": [],
      "source": [
        "nombre = 'Armando';\n"
      ]
    },
    {
      "cell_type": "code",
      "source": [
        "edad = 26\n"
      ],
      "metadata": {
        "id": "1lIDVWfj-s5U"
      },
      "execution_count": null,
      "outputs": []
    },
    {
      "cell_type": "code",
      "source": [],
      "metadata": {
        "colab": {
          "base_uri": "https://localhost:8080/"
        },
        "id": "aDmK9zIrWqQF",
        "outputId": "0f20682f-f780-44b5-e744-87f1706e6306"
      },
      "execution_count": null,
      "outputs": [
        {
          "output_type": "stream",
          "name": "stdout",
          "text": [
            "Hello world\n"
          ]
        }
      ]
    },
    {
      "cell_type": "markdown",
      "source": [
        "# Mi primera Función."
      ],
      "metadata": {
        "id": "mqzkhegO-ZJX"
      }
    },
    {
      "cell_type": "markdown",
      "source": [],
      "metadata": {
        "id": "jpNb7SY3-ec5"
      }
    },
    {
      "cell_type": "code",
      "source": [
        "print(f'Mi nombre es {nombre} y tengo {edad} años');\n"
      ],
      "metadata": {
        "id": "PUIgB_lyExgW",
        "colab": {
          "base_uri": "https://localhost:8080/"
        },
        "outputId": "5d99cc74-b9ad-49ef-913e-71b42ea727d4"
      },
      "execution_count": null,
      "outputs": [
        {
          "output_type": "stream",
          "name": "stdout",
          "text": [
            "Mi nombre es Armandi y tengo 26 años\n"
          ]
        }
      ]
    },
    {
      "cell_type": "code",
      "source": [
        "def saludar () :\n",
        "  nombre = input('Digite su nombre');\n",
        "  print(f'Hola {nombre} es placer saludarte')"
      ],
      "metadata": {
        "id": "6ebF0oPyBxA9"
      },
      "execution_count": null,
      "outputs": []
    },
    {
      "cell_type": "code",
      "source": [
        "saludar()\n"
      ],
      "metadata": {
        "colab": {
          "base_uri": "https://localhost:8080/"
        },
        "id": "oDb5a8hyCPJ_",
        "outputId": "7622a484-e12f-45d8-cce5-dbd619552c8a"
      },
      "execution_count": null,
      "outputs": [
        {
          "output_type": "stream",
          "name": "stdout",
          "text": [
            "Digite su nombreKevin\n",
            "Hola Kevin es placer saludarte\n"
          ]
        }
      ]
    },
    {
      "cell_type": "code",
      "source": [
        "saludar()"
      ],
      "metadata": {
        "id": "BIb2sAvbCf0S",
        "outputId": "9b68b963-480b-46a3-f8e9-c60969f6307b",
        "colab": {
          "base_uri": "https://localhost:8080/"
        }
      },
      "execution_count": null,
      "outputs": [
        {
          "output_type": "stream",
          "name": "stdout",
          "text": [
            "Digite su nombre.Armando\n",
            "Mucho gusto Armando es placer saludarte!\n"
          ]
        }
      ]
    }
  ]
}